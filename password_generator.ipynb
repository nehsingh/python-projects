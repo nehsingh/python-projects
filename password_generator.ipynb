{
 "cells": [
  {
   "cell_type": "markdown",
   "metadata": {},
   "source": [
    "# password generation using a text file"
   ]
  },
  {
   "cell_type": "code",
   "execution_count": 90,
   "metadata": {},
   "outputs": [],
   "source": [
    "# importing libraries\n",
    "import random"
   ]
  },
  {
   "cell_type": "code",
   "execution_count": 91,
   "metadata": {},
   "outputs": [],
   "source": [
    "# storing file name in a variable\n",
    "word_file = 'Alice.txt'\n",
    "word_list = []\n"
   ]
  },
  {
   "cell_type": "code",
   "execution_count": 92,
   "metadata": {},
   "outputs": [
    {
     "name": "stdout",
     "output_type": "stream",
     "text": [
      "459 µs ± 143 µs per loop (mean ± std. dev. of 7 runs, 1000 loops each)\n"
     ]
    }
   ],
   "source": [
    "# main code\n",
    "with open(word_file, 'r') as story:\n",
    "     for line in story:\n",
    "            word = line.strip().lower() # remove whitespaces and converting to lower case\n",
    "            if 3<len(word)<8:\n",
    "                word_list.append(word)\n",
    "                \n",
    "                \n",
    "def password_generator():\n",
    "    password = \"\"\n",
    "    random_words  = random.sample(word_list, 3)\n",
    "    for words in random_words:\n",
    "        password += words\n",
    "    return password\n",
    "\n",
    "password_generator()\n",
    "                \n",
    "          \n",
    "            \n",
    "            "
   ]
  },
  {
   "cell_type": "markdown",
   "metadata": {},
   "source": [
    "# password generation using string library"
   ]
  },
  {
   "cell_type": "code",
   "execution_count": 93,
   "metadata": {},
   "outputs": [
    {
     "data": {
      "text/plain": [
       "'DO$cwl)T'"
      ]
     },
     "execution_count": 93,
     "metadata": {},
     "output_type": "execute_result"
    }
   ],
   "source": [
    "# import libraries\n",
    "import string # using string libraries\n",
    "import random\n",
    "\n",
    "# using a combo of upper/lower case letters, numbers and special characters\n",
    "words = string.ascii_letters + string.punctuation + string.digits\n",
    "\n",
    "\n",
    "def password_generator():\n",
    "    password = \"\"\n",
    "    for i in range(randint(3,8)):\n",
    "        password += choice(words)\n",
    "    return password\n",
    "    \n",
    "\n",
    "password_generator()"
   ]
  }
 ],
 "metadata": {
  "kernelspec": {
   "display_name": "Python 3",
   "language": "python",
   "name": "python3"
  },
  "language_info": {
   "codemirror_mode": {
    "name": "ipython",
    "version": 3
   },
   "file_extension": ".py",
   "mimetype": "text/x-python",
   "name": "python",
   "nbconvert_exporter": "python",
   "pygments_lexer": "ipython3",
   "version": "3.7.3"
  }
 },
 "nbformat": 4,
 "nbformat_minor": 2
}
